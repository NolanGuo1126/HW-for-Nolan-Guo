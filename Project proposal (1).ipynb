{
 "cells": [
  {
   "cell_type": "markdown",
   "id": "5fbac334",
   "metadata": {},
   "source": [
    "# Research question1：What is the distribution of household income within the surveyed population?\n",
    " variable ：household income（Importance of choosing it as a Variable：Core to Economic Analysis: Income is a crucial indicator of an     individual's or household's economic status, reflecting quality of life, purchasing power, and social standing. Analyzing income can       reveal insights into economic development, wealth disparity, and social mobility.）\n",
    " analysis：1，Boxplots are Appropriate for Income Data\n",
    "          （1）Displays Distribution Characteristics: Boxplots clearly show the median, quartiles, and overall variability of income.             They effectively convey the distribution of income across different groups, helping to understand income trends.\n",
    "          （2）Identifies Outliers: Boxplots highlight outliers in the data, which can indicate individuals with significantly high or             low incomes. Recognizing such anomalies is crucial for comprehending the integrity and fairness of income distribution.\n",
    "        2，use the hypothesis test to analyze the data\n",
    "           (1)Null Hypothesis (H0): The mean household income is equal to $70,000.\n",
    "            Alternative Hypothesis (H1): The mean household income is not equal to $70,000.\n",
    "           (2)Compute descriptive statistics (mean, median, mode, variance, standard deviation) to summarize income data.find the p-              value by t-test and then to compare with the H0\n",
    " hypothesis/results and discussion:\n",
    "        1,Hypothesis: The mean household income is significantly different from a national average\n",
    "        2,discussion:The results will indicate that there is a variation in household income distribution within the surveyed                  population so that it give the answer of the question.the result assumed shows there is a significant variation in wealth among          different social groups that may the main factor of the difference of other variables\n"
   ]
  },
  {
   "cell_type": "markdown",
   "id": "858fa93d",
   "metadata": {},
   "source": [
    "# Research question2：What is the distribution of  how often have you visited with family at your/their home \n",
    "within the surveyed population?\n",
    " variable ：how often have you visited with family at your/their home (Importance of choosing it as a Variable: This variable sheds light on family engagement and the strength of family ties. Frequent visits can indicate strong relationships and social support networks, which are vital for emotional and wealth well-being.)\n",
    "\n",
    " analysis：1，Barchat is Appropriate for Income Data\n",
    "         (1) Categorical Data Representation: Since the responses about family visits are categorical, a bar chart provides a clear              visual representation of how many respondents fall into each frequency category.\n",
    "         (2）Comparison: It allows for easy comparison of different categories; you can quickly see which visit frequency is most common          among respondents.\n",
    "         （3）Interpretation: A bar chart is easy to interpret for stakeholders and can highlight important patterns or trends in family              visitation that may be relevant for further analysis or discussions.\n",
    "        2，use the Bootstrapping to analyze the data:\n",
    "         (1)resampling with replacement from the original data\n",
    "         (2)Confidence Intervals\n",
    "          Direct Confidence Interval Estimation: Bootstrapping allows for the direct calculation of confidence intervals for a statistic,          providing a more intuitive and direct way to estimate the precision of the estimate without relying on theoretical                  distributions.          \n",
    " hypothesis/results and discussion:\n",
    "        1,Hypothesis: The frequency of visits with family at home is normal distribution\n",
    "        2,discussion:The results will indicate that there is a variation in how often have you visited with family at your/their home           distribution within the surveyed population so that it give the answer of yhe question,This also aligns with human normal             behavior in relation to the hypothesized results."
   ]
  },
  {
   "cell_type": "markdown",
   "id": "a41d1246",
   "metadata": {},
   "source": [
    "# Research question3:Is there a positive correlation between household income and how often have you visited with family at your/their home \n",
    "\n",
    "variables:variables1:household income\n",
    "          variables2：how often have you visited with family at your/their home (frequency)\n",
    "analysis：1，Visualization\n",
    "       Scatter Plot: Create a scatter plot where the x-axis represents income and the y-axis represents visit frequency. This can help          visualize any apparent relationship between the two variables.（A scatter plot is an effective visualization tool for analyzing the        relationship between two quantitative variables. Here are several reasons why a scatter plot is a good choice for analyzing the          relationship between \"income\" and \"how often have you visited with family\":）\n",
    "       2，Use linear regression to analyze the data:\n",
    "       Step 1: Setting Up the Linear Regression\n",
    "       Model Setup:Dependent Variable: Visit frequency (y).Independent Variable: Income (x).\n",
    "       Step 2: Assumptions of Linear RegressioLinearity: The relationship between the independent and dependent variable should be            linear.Independence: Observations should be independent of each other.\n",
    "       Homoscedasticity: The residuals should have constant variance at every level of income.\n",
    "       Normality: The residuals of the regression should be normally distributed.\n",
    "hypothesis/results and discussion:\n",
    "       1,Hypothesis:there is a positive correlation between household income and how often have you visited with family at your/their home \n",
    "       2.discussion:this hypothesis suggests that income positively influences family visit frequency. This                            relationship can provide insights into social behavior and family dynamics, and policymakers might consider this in crafting family        support programs."
   ]
  }
 ],
 "metadata": {
  "kernelspec": {
   "display_name": "Python 3 (ipykernel)",
   "language": "python",
   "name": "python3"
  },
  "language_info": {
   "codemirror_mode": {
    "name": "ipython",
    "version": 3
   },
   "file_extension": ".py",
   "mimetype": "text/x-python",
   "name": "python",
   "nbconvert_exporter": "python",
   "pygments_lexer": "ipython3",
   "version": "3.11.6"
  }
 },
 "nbformat": 4,
 "nbformat_minor": 5
}
